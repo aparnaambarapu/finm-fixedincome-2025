{
 "cells": [
  {
   "cell_type": "markdown",
   "id": "bac929b8",
   "metadata": {},
   "source": [
    "# Homework 3\n",
    "\n",
    "## FINM 37400 - 2025\n",
    "\n",
    "### UChicago Financial Mathematics\n",
    "\n",
    "* Mark Hendricks\n",
    "* hendricks@uchicago.edu"
   ]
  },
  {
   "cell_type": "markdown",
   "id": "7b03c2b8",
   "metadata": {},
   "source": [
    "***"
   ]
  },
  {
   "cell_type": "code",
   "execution_count": 36,
   "id": "43550b45",
   "metadata": {},
   "outputs": [],
   "source": [
    "import pandas as pd\n",
    "import numpy as np\n",
    "import datetime\n",
    "from sklearn.linear_model import LinearRegression\n",
    "from scipy.optimize import minimize\n",
    "import matplotlib.pyplot as plt\n",
    "import sys\n",
    "import warnings\n",
    "warnings.filterwarnings('ignore',category=FutureWarning)\n",
    "import sys\n",
    "sys.path.insert(0, '../cmds') \n",
    "import statsmodels.api as sm"
   ]
  },
  {
   "cell_type": "markdown",
   "id": "42647704",
   "metadata": {},
   "source": [
    "# 1 HBS Case: Fixed-Income Arbitrage in a Financial Crisis (C): Spread and Swap Spread in November 2008"
   ]
  },
  {
   "cell_type": "markdown",
   "id": "20d04ae8",
   "metadata": {},
   "source": [
    "## Simplification of the setup\n",
    "\n",
    "The date is Nov 4, 2008.\n",
    "\n",
    "**Treasury bond**\n",
    "* Suppose the Treasury bond matures exactly 30 years later, on Nov 4, 2038 rather than May 15, 2008. \n",
    "* The YTM of this freshly issued treasury is 4.193\\% with a semiannual coupon of 4.50\\%, same as is given in the case. (So we're just changing the maturity date to simplify things, but keeping the market data.)\n",
    "\n",
    "**Swap**\n",
    "* The fixed leg of the swap pays semiannually, with swap rate of 4.2560\\%, as given in the case.\n",
    "* The floating leg of the swap also pays semiannually--not quarterly--such that the payment dates are identical on both legs. Thus, it also resets the floating rate semiannually, not quarterly.\n",
    "* The floating rate of the swap equals the repo rate used in the trade. Thus, these two rates cancel in the financing of the trade. (No need to consider the TED spread.) "
   ]
  },
  {
   "cell_type": "markdown",
   "id": "b4dc60d2",
   "metadata": {},
   "source": [
    "## Case Clarifications\n",
    "\n",
    "\n",
    "### Duration Quotes\n",
    "Bond\n",
    "* Quote: Val01 of bond is .1746 per bp per $1 face value\n",
    "* Class terminology: Modified dollar duration is .1746 per $100 face value\n",
    "\n",
    "Swap\n",
    "* Quote: DV01 of swap is 1.7mm per 1 billion notional.\n",
    "* Class terminology: Modified dollar duration is 100(1.7/1000) per $100 face value.\n",
    "\n",
    "Thus, modified dollar duration for each per 100 face is\n",
    "* Bond = .1746\n",
    "* Swap = .1700\n",
    "\n",
    "### Hedge Ratio\n",
    "\n",
    "In figuring out the hedge ratio, they set up the hedge per dollar of face value. \n",
    "\n",
    "    *so Mills would need to buy face amount $0.97 billion*\n",
    "    \n",
    "No, this hedge should be for market value, not face amount given that the case is already using **modified** duration which includes the dirty price.\n",
    "    \n",
    "\n",
    "### Maturity Mismatch\n",
    "\n",
    "The maturity of the bond is August 2038, whereas the date is Nov 2008. Thus, the bond has less than 30 years to maturity, yet he is entering a 30-year swap. \n",
    "\n",
    "For simplicity, we imagine the bond is issued in Nov 2008 and thus has maturity of 30 years at the time of the case.\n",
    "\n",
    "However, then the case quotes for the Nov price and YTM of the bond no longer are accurate. Use one and adjust the other. Namely, we could...\n",
    "    * use the Nov 4 **YTM** quoted in the case, and re-adjust the the bond.\n",
    "    * use the Nov 4 **price** quoted in the case, and re-adjust the YTM.\n",
    "    \n",
    "We do the former, keep the quoted YTM, assume time-to-maturity of `30`, and recalculate the Nov 2008 price. (It is close to the quoted price in the case.)"
   ]
  },
  {
   "cell_type": "markdown",
   "id": "88f4ddfa",
   "metadata": {},
   "source": [
    "***"
   ]
  },
  {
   "cell_type": "code",
   "execution_count": 2,
   "id": "9495ded2",
   "metadata": {},
   "outputs": [],
   "source": [
    "def price_treasury_ytm(time_to_maturity, ytm, cpn_rate,freq=2,face=100):\n",
    "    c = cpn_rate/freq\n",
    "    y = ytm/freq\n",
    "    \n",
    "    rem = freq * (time_to_maturity % (1/freq))\n",
    "    tau = freq * time_to_maturity - rem\n",
    "    \n",
    "    if round(tau)!=tau:\n",
    "        print('warning')\n",
    "    else:\n",
    "        tau = round(tau)    \n",
    "    \n",
    "    pv = 0\n",
    "    for i in range(1,tau):\n",
    "        pv += 1 / (1+y)**i\n",
    "    \n",
    "    pv = c*pv + (1+c)/(1+y)**tau\n",
    "    pv *= face\n",
    "    \n",
    "    if rem>0:\n",
    "        pv += c*face\n",
    "        pv /= (1+y)**rem\n",
    "        \n",
    "    return pv"
   ]
  },
  {
   "cell_type": "markdown",
   "id": "2b81df67",
   "metadata": {},
   "source": [
    "## 1.0.\n",
    "\n",
    "Report the price of the 30-year T-bond in Nov 2008. Given the discussion about `Maturity Mismatch`, we are repricing the bond, so it will not exactly equal `105` as reported in the case."
   ]
  },
  {
   "cell_type": "code",
   "execution_count": 3,
   "id": "668dcb48",
   "metadata": {},
   "outputs": [],
   "source": [
    "YTM = [0.04193,]\n",
    "CPNRATE = [0.0450]    \n",
    "SWAPRATE = [.042560]\n",
    "\n",
    "TPRICE = 105\n",
    "PAR = 100\n",
    "tau0 = 30"
   ]
  },
  {
   "cell_type": "code",
   "execution_count": 4,
   "id": "d3586ac9",
   "metadata": {},
   "outputs": [
    {
     "data": {
      "text/plain": [
       "105.21328175314193"
      ]
     },
     "execution_count": 4,
     "metadata": {},
     "output_type": "execute_result"
    }
   ],
   "source": [
    "price_t = price_treasury_ytm(tau0,YTM[0],CPNRATE[0])\n",
    "price_t  #price of the 30-year T-bond in Nov 2008"
   ]
  },
  {
   "cell_type": "markdown",
   "id": "48cc1866",
   "metadata": {},
   "source": [
    "## 1.1\n",
    "\n",
    "List the projected cashflows on May 4, 2009, exactly six months into the trade, on the first coupon and swap date.\n",
    "\n",
    "#### Clarification\n",
    "List these cashflows for face value of $1B, not the $0.97B noted in the case. As mentioned in \"Case Clarifications\", we will not use this number. Rather, we calculate our own hedge ratio in a problem below."
   ]
  },
  {
   "cell_type": "code",
   "execution_count": 8,
   "id": "de761bb9",
   "metadata": {},
   "outputs": [
    {
     "data": {
      "text/plain": [
       "212800.0"
      ]
     },
     "execution_count": 8,
     "metadata": {},
     "output_type": "execute_result"
    }
   ],
   "source": [
    "P1 =  1e9*.04256/200\n",
    "P1 #fixed leg (swap)"
   ]
  },
  {
   "cell_type": "code",
   "execution_count": 9,
   "id": "7d766da5",
   "metadata": {},
   "outputs": [
    {
     "data": {
      "text/plain": [
       "225000.0"
      ]
     },
     "execution_count": 9,
     "metadata": {},
     "output_type": "execute_result"
    }
   ],
   "source": [
    "P2 = 1e9*.0450/200\n",
    "P2 #floating payment"
   ]
  },
  {
   "cell_type": "code",
   "execution_count": 10,
   "id": "149786f8",
   "metadata": {},
   "outputs": [
    {
     "data": {
      "text/plain": [
       "-12200.0"
      ]
     },
     "execution_count": 10,
     "metadata": {},
     "output_type": "execute_result"
    }
   ],
   "source": [
    "net_payment = P1-P2\n",
    "net_payment"
   ]
  },
  {
   "cell_type": "markdown",
   "id": "2076b2c9",
   "metadata": {},
   "source": [
    "## 1.2\n",
    "\n",
    "What is the duration of...\n",
    "* the T-bond\n",
    "* the swap\n",
    "\n",
    "Remember that...\n",
    "* the swap can be decomposed into a fixed-rate bond and a floating-rate note\n",
    "* a floating-rate note has duration equal to the time until the next reset. Thus, at initialization, it has duration equal to 0.5 years.\n",
    "\n",
    "Is the duration for the \"paying-fixed\" swap positive or negative? Is it bigger or smaller in magnitude than the T-bond?\n",
    "\n",
    "For this problem, calculate the Macauley duration and the dollar (Macauley) duration."
   ]
  },
  {
   "cell_type": "code",
   "execution_count": 11,
   "id": "132b5faa",
   "metadata": {},
   "outputs": [],
   "source": [
    "def duration_closed_formula(tau, ytm, cpnrate=None, freq=2):\n",
    "\n",
    "    if cpnrate is None:\n",
    "        cpnrate = ytm\n",
    "        \n",
    "    y = ytm/freq\n",
    "    c = cpnrate/freq\n",
    "    T = tau * freq\n",
    "        \n",
    "    if cpnrate==ytm:\n",
    "        duration = (1+y)/y  * (1 - 1/(1+y)**T)\n",
    "        \n",
    "    else:\n",
    "        duration = (1+y)/y - (1+y+T*(c-y)) / (c*((1+y)**T-1)+y)\n",
    "\n",
    "    duration /= freq\n",
    "    \n",
    "    return duration\n"
   ]
  },
  {
   "cell_type": "code",
   "execution_count": 12,
   "id": "568bff23",
   "metadata": {},
   "outputs": [
    {
     "data": {
      "text/html": [
       "<div>\n",
       "<style scoped>\n",
       "    .dataframe tbody tr th:only-of-type {\n",
       "        vertical-align: middle;\n",
       "    }\n",
       "\n",
       "    .dataframe tbody tr th {\n",
       "        vertical-align: top;\n",
       "    }\n",
       "\n",
       "    .dataframe thead th {\n",
       "        text-align: right;\n",
       "    }\n",
       "</style>\n",
       "<table border=\"1\" class=\"dataframe\">\n",
       "  <thead>\n",
       "    <tr style=\"text-align: right;\">\n",
       "      <th></th>\n",
       "      <th>duration</th>\n",
       "      <th>dollar duration</th>\n",
       "    </tr>\n",
       "  </thead>\n",
       "  <tbody>\n",
       "    <tr>\n",
       "      <th>T bond</th>\n",
       "      <td>17.086964</td>\n",
       "      <td>1797.775539</td>\n",
       "    </tr>\n",
       "    <tr>\n",
       "      <th>fixed leg</th>\n",
       "      <td>17.212744</td>\n",
       "      <td>1721.274445</td>\n",
       "    </tr>\n",
       "    <tr>\n",
       "      <th>floating leg</th>\n",
       "      <td>0.500000</td>\n",
       "      <td>50.000000</td>\n",
       "    </tr>\n",
       "    <tr>\n",
       "      <th>repo</th>\n",
       "      <td>0.500000</td>\n",
       "      <td>51.554508</td>\n",
       "    </tr>\n",
       "  </tbody>\n",
       "</table>\n",
       "</div>"
      ],
      "text/plain": [
       "               duration  dollar duration\n",
       "T bond        17.086964      1797.775539\n",
       "fixed leg     17.212744      1721.274445\n",
       "floating leg   0.500000        50.000000\n",
       "repo           0.500000        51.554508"
      ]
     },
     "metadata": {},
     "output_type": "display_data"
    },
    {
     "data": {
      "text/html": [
       "<div>\n",
       "<style scoped>\n",
       "    .dataframe tbody tr th:only-of-type {\n",
       "        vertical-align: middle;\n",
       "    }\n",
       "\n",
       "    .dataframe tbody tr th {\n",
       "        vertical-align: top;\n",
       "    }\n",
       "\n",
       "    .dataframe thead th {\n",
       "        text-align: right;\n",
       "    }\n",
       "</style>\n",
       "<table border=\"1\" class=\"dataframe\">\n",
       "  <thead>\n",
       "    <tr style=\"text-align: right;\">\n",
       "      <th></th>\n",
       "      <th>duration</th>\n",
       "      <th>dollar duration</th>\n",
       "    </tr>\n",
       "  </thead>\n",
       "  <tbody>\n",
       "    <tr>\n",
       "      <th>T repo</th>\n",
       "      <td>16.586964</td>\n",
       "      <td>1746.221031</td>\n",
       "    </tr>\n",
       "    <tr>\n",
       "      <th>swap</th>\n",
       "      <td>16.712744</td>\n",
       "      <td>1671.274445</td>\n",
       "    </tr>\n",
       "    <tr>\n",
       "      <th>net</th>\n",
       "      <td>-0.125781</td>\n",
       "      <td>74.946585</td>\n",
       "    </tr>\n",
       "  </tbody>\n",
       "</table>\n",
       "</div>"
      ],
      "text/plain": [
       "         duration  dollar duration\n",
       "T repo  16.586964      1746.221031\n",
       "swap    16.712744      1671.274445\n",
       "net     -0.125781        74.946585"
      ]
     },
     "metadata": {},
     "output_type": "display_data"
    }
   ],
   "source": [
    "tab_duration = pd.DataFrame(dtype=float, index=['T bond','fixed leg', 'floating leg'], columns=['duration'])\n",
    "tab_duration.loc['T bond'] = duration_closed_formula(tau0, 0.0419, 0.045)\n",
    "tab_duration.loc['fixed leg'] = duration_closed_formula(tau0, 0.04256)\n",
    "tab_duration.loc['floating leg'] = .5\n",
    "tab_duration.loc['repo'] = .5\n",
    "\n",
    "tab_duration['dollar duration'] = tab_duration['duration'] * np.array([price_t, 100, 100, price_t * (1-0.02)])\n",
    "\n",
    "\n",
    "tab_net = pd.DataFrame(dtype=float, index=['T repo','swap'], columns=['duration','dollar duration'])\n",
    "tab_net.loc['T repo'] = tab_duration.loc['T bond'] - tab_duration.loc['repo']\n",
    "tab_net.loc['swap'] = tab_duration.loc['fixed leg'] - tab_duration.loc['floating leg']\n",
    "tab_net.loc['net'] = tab_net.loc['T repo'] - tab_net.loc['swap']\n",
    "\n",
    "#tab_duration['dollar duration'] = tab_duration['duration'] * np.array([TPRICE, PAR, PAR, PAR])\n",
    "\n",
    "display(tab_duration)\n",
    "\n",
    "display(tab_net)"
   ]
  },
  {
   "cell_type": "markdown",
   "id": "b1cee312",
   "metadata": {},
   "source": [
    "duration for the \"paying-fixed\" swap positive and bigger in magnitude than the T-bond"
   ]
  },
  {
   "cell_type": "markdown",
   "id": "2b944cf6",
   "metadata": {},
   "source": [
    "## 1.3\n",
    "\n",
    "What hedge ratio should be used to balance the notional size of the Treasury bond with the notional size of the swap, such that it is a duration-neutral position?\n",
    "\n",
    "Specifically, if the trader enters the swap paying fixed on \\$500 million notional, how large of a position should they take in the Treasury bond?"
   ]
  },
  {
   "cell_type": "code",
   "execution_count": 13,
   "id": "b4124de0",
   "metadata": {},
   "outputs": [
    {
     "data": {
      "text/html": [
       "<div>\n",
       "<style scoped>\n",
       "    .dataframe tbody tr th:only-of-type {\n",
       "        vertical-align: middle;\n",
       "    }\n",
       "\n",
       "    .dataframe tbody tr th {\n",
       "        vertical-align: top;\n",
       "    }\n",
       "\n",
       "    .dataframe thead th {\n",
       "        text-align: right;\n",
       "    }\n",
       "</style>\n",
       "<table border=\"1\" class=\"dataframe\">\n",
       "  <thead>\n",
       "    <tr style=\"text-align: right;\">\n",
       "      <th></th>\n",
       "      <th>positions</th>\n",
       "    </tr>\n",
       "  </thead>\n",
       "  <tbody>\n",
       "    <tr>\n",
       "      <th>T repo</th>\n",
       "      <td>4.785403e+08</td>\n",
       "    </tr>\n",
       "    <tr>\n",
       "      <th>swap</th>\n",
       "      <td>-5.000000e+06</td>\n",
       "    </tr>\n",
       "  </tbody>\n",
       "</table>\n",
       "</div>"
      ],
      "text/plain": [
       "           positions\n",
       "T repo  4.785403e+08\n",
       "swap   -5.000000e+06"
      ]
     },
     "execution_count": 13,
     "metadata": {},
     "output_type": "execute_result"
    }
   ],
   "source": [
    "hedge_ratio = tab_net.loc['swap','dollar duration'] / tab_net.loc['T repo','dollar duration']\n",
    "contracts = pd.DataFrame(5e8 * np.array([hedge_ratio, -1/PAR]), index=['T repo','swap'], columns=['positions'])\n",
    "contracts"
   ]
  },
  {
   "cell_type": "markdown",
   "id": "95877cb8",
   "metadata": {},
   "source": [
    "## 1.4\n",
    "\n",
    "Suppose it is May 4, 2009, exactly six months after putting the trade on.\n",
    "\n",
    "The spread is at -28 bps due to...\n",
    "* The YTM on a new 30-year bond has risen to 4.36\\%\n",
    "* The swap rate on a new 30-year swap has dropped to 4.08\\%\n",
    "\n",
    "Explain conceptually how this movement impacts the components of the trade."
   ]
  },
  {
   "cell_type": "markdown",
   "id": "54cdb3be",
   "metadata": {},
   "source": [
    "- An increasing YTM on the T-bond indicates a lower adjusted price, resulting in a loss as we are long the T-bond.\n",
    "- A declining swap rate increases the value of the fixed leg, leading to a loss since we are paying fixed.\n",
    "- The floating leg of the swap offsets the repo rate, leaving no net impact."
   ]
  },
  {
   "cell_type": "markdown",
   "id": "c8bf1f3a",
   "metadata": {},
   "source": [
    "## 1.5\n",
    "\n",
    "Calculate the value of the position on May 4, 2009, immediately after the first coupon and swap payments and swap reset. \n",
    "\n",
    "* Calculate the revised price of the Treasury bond by assuming you can apply the (May 4) 30-year YTM as a discount rate to the 29.5 year bond. (We are just using this for a rough approximation. You know that good pricing would require a discount curve, but let's not get bogged down with that here.)\n",
    "\n",
    "\n",
    "* Calculate the value of the swap by decomposing it into a fixed-rate bond and a floating-rate bond.\n",
    "    * The 29.5 year fixed-rate leg is priced using the (May 4) 30-year swap rate as a discount rate.\n",
    "    * The floating-rate leg is priced at par given that floating-rate notes are par immediately after resets.\n",
    "    \n",
    "**Note**\n",
    "\n",
    "You are being asked to calculate these valuations using the exact formula between price, cashflows, and YTM discount rate. We are not simply approximating with duration, as we already know the position was set up with zero dollar duration.\n",
    "\n",
    "From the Discussion notebook, we have this formula expressing a bond's price as a function of the coupon, $c$, and the YTM, $y_j$.\n",
    "\n",
    "$\\begin{align*}\n",
    "P_j(t,T,c) = \\sum_{i=1}^{n-1}\\frac{100\\left(\\frac{c}{2}\\right)}{\\left(1+\\frac{y_j}{2}\\right)^{2(T_i-t)}} + \\frac{100\\left(1+\\frac{c}{2}\\right)}{\\left(1+\\frac{y_j}{2}\\right)^{2(T-t)}}\n",
    "\\end{align*}\n",
    "$"
   ]
  },
  {
   "cell_type": "code",
   "execution_count": 14,
   "id": "df2aee9f",
   "metadata": {},
   "outputs": [
    {
     "data": {
      "text/html": [
       "<style type=\"text/css\">\n",
       "</style>\n",
       "<table id=\"T_cae50\">\n",
       "  <thead>\n",
       "    <tr>\n",
       "      <th class=\"blank level0\" >&nbsp;</th>\n",
       "      <th id=\"T_cae50_level0_col0\" class=\"col_heading level0 col0\" >Nov 2008</th>\n",
       "      <th id=\"T_cae50_level0_col1\" class=\"col_heading level0 col1\" >May 2009</th>\n",
       "    </tr>\n",
       "  </thead>\n",
       "  <tbody>\n",
       "    <tr>\n",
       "      <th id=\"T_cae50_level0_row0\" class=\"row_heading level0 row0\" >T bond</th>\n",
       "      <td id=\"T_cae50_row0_col0\" class=\"data row0 col0\" >$105.21</td>\n",
       "      <td id=\"T_cae50_row0_col1\" class=\"data row0 col1\" >$102.31</td>\n",
       "    </tr>\n",
       "    <tr>\n",
       "      <th id=\"T_cae50_level0_row1\" class=\"row_heading level0 row1\" >swap</th>\n",
       "      <td id=\"T_cae50_row1_col0\" class=\"data row1 col0\" >$0.00</td>\n",
       "      <td id=\"T_cae50_row1_col1\" class=\"data row1 col1\" >$3.00</td>\n",
       "    </tr>\n",
       "  </tbody>\n",
       "</table>\n"
      ],
      "text/plain": [
       "<pandas.io.formats.style.Styler at 0x14e3b9250>"
      ]
     },
     "execution_count": 14,
     "metadata": {},
     "output_type": "execute_result"
    }
   ],
   "source": [
    "prices = pd.DataFrame(index=['T bond', 'swap'],dtype=float,columns=['Nov 2008'])\n",
    "\n",
    "prices.loc['T bond','Nov 2008'] = price_t\n",
    "\n",
    "prices.loc['swap','Nov 2008'] = 0\n",
    "\n",
    "prices.loc['T bond','May 2009'] = price_treasury_ytm(29.5, 0.0436, 0.045)\n",
    "prices.loc['swap','May 2009'] = price_treasury_ytm(29.5, 0.0408, 0.04256) - 100\n",
    "\n",
    "prices.style.format('${:,.2f}')"
   ]
  },
  {
   "cell_type": "markdown",
   "id": "7fba6574",
   "metadata": {},
   "source": [
    "## 1.6\n",
    "\n",
    "Accounting for the change in value of the positions, as well as the 6-month cashflows paid on May 4, \n",
    "* what is the net profit and loss (pnl) of the position?\n",
    "* what is the return on the equity capital, considering that there was a 2\\% haircut (equity contribution) on the size of the initial treasury bond position."
   ]
  },
  {
   "cell_type": "code",
   "execution_count": 16,
   "id": "8c351691",
   "metadata": {},
   "outputs": [
    {
     "data": {
      "text/html": [
       "<style type=\"text/css\">\n",
       "</style>\n",
       "<table id=\"T_a20cb\">\n",
       "  <thead>\n",
       "    <tr>\n",
       "      <th class=\"blank level0\" >&nbsp;</th>\n",
       "      <th id=\"T_a20cb_level0_col0\" class=\"col_heading level0 col0\" >cashflow</th>\n",
       "      <th id=\"T_a20cb_level0_col1\" class=\"col_heading level0 col1\" >capital gains</th>\n",
       "      <th id=\"T_a20cb_level0_col2\" class=\"col_heading level0 col2\" >total</th>\n",
       "    </tr>\n",
       "  </thead>\n",
       "  <tbody>\n",
       "    <tr>\n",
       "      <th id=\"T_a20cb_level0_row0\" class=\"row_heading level0 row0\" >T bond</th>\n",
       "      <td id=\"T_a20cb_row0_col0\" class=\"data row0 col0\" >$1,076,715,787.00</td>\n",
       "      <td id=\"T_a20cb_row0_col1\" class=\"data row0 col1\" >$-1,388,667,180.27</td>\n",
       "      <td id=\"T_a20cb_row0_col2\" class=\"data row0 col2\" >$-311,951,393.27</td>\n",
       "    </tr>\n",
       "    <tr>\n",
       "      <th id=\"T_a20cb_level0_row1\" class=\"row_heading level0 row1\" >swap</th>\n",
       "      <td id=\"T_a20cb_row1_col0\" class=\"data row1 col0\" >$-10,640,000.00</td>\n",
       "      <td id=\"T_a20cb_row1_col1\" class=\"data row1 col1\" >$-15,016,747.03</td>\n",
       "      <td id=\"T_a20cb_row1_col2\" class=\"data row1 col2\" >$-25,656,747.03</td>\n",
       "    </tr>\n",
       "    <tr>\n",
       "      <th id=\"T_a20cb_level0_row2\" class=\"row_heading level0 row2\" >net</th>\n",
       "      <td id=\"T_a20cb_row2_col0\" class=\"data row2 col0\" >$1,066,075,787.00</td>\n",
       "      <td id=\"T_a20cb_row2_col1\" class=\"data row2 col1\" >$-1,403,683,927.30</td>\n",
       "      <td id=\"T_a20cb_row2_col2\" class=\"data row2 col2\" >$-337,608,140.30</td>\n",
       "    </tr>\n",
       "  </tbody>\n",
       "</table>\n"
      ],
      "text/plain": [
       "<pandas.io.formats.style.Styler at 0x14e7bbf80>"
      ]
     },
     "execution_count": 16,
     "metadata": {},
     "output_type": "execute_result"
    }
   ],
   "source": [
    "pnl=pd.DataFrame(dtype=float,index=['T bond','swap'],columns=['cashflow'])\n",
    "\n",
    "pnl['cashflow'] = [[P2],[-P1]] * contracts.abs().values/1e5\n",
    "pnl['capital gains'] = prices.diff(axis=1)['May 2009'].values * contracts.values[:,0]\n",
    "\n",
    "pnl.loc['net'] = pnl.sum()\n",
    "\n",
    "pnl['total'] = pnl.sum(axis=1)\n",
    "\n",
    "pnl.style.format('${:,.2f}',na_rep='')\n"
   ]
  },
  {
   "cell_type": "markdown",
   "id": "948c9706",
   "metadata": {},
   "source": [
    "***"
   ]
  },
  {
   "cell_type": "markdown",
   "id": "633edb93",
   "metadata": {},
   "source": [
    "# 2. Factor Duration"
   ]
  },
  {
   "cell_type": "markdown",
   "id": "0f6e4aa6",
   "metadata": {},
   "source": [
    "### Data\n",
    "\n",
    "This problem uses data from,\n",
    "* `/data/yields.xlsx`\n",
    "* `/data/treasury_ts_duration_2024-10-31.xlsx`"
   ]
  },
  {
   "cell_type": "markdown",
   "id": "6127c1e5",
   "metadata": {},
   "source": [
    "#### Load Yields"
   ]
  },
  {
   "cell_type": "code",
   "execution_count": 39,
   "id": "69fbc7c2",
   "metadata": {},
   "outputs": [],
   "source": [
    "filepath = '../data/yields.xlsx'\n",
    "yields = pd.read_excel(filepath, sheet_name='yields')\n",
    "yields.set_index('caldt',inplace=True)"
   ]
  },
  {
   "cell_type": "code",
   "execution_count": 40,
   "id": "80f69424",
   "metadata": {},
   "outputs": [
    {
     "data": {
      "text/html": [
       "<div>\n",
       "<style scoped>\n",
       "    .dataframe tbody tr th:only-of-type {\n",
       "        vertical-align: middle;\n",
       "    }\n",
       "\n",
       "    .dataframe tbody tr th {\n",
       "        vertical-align: top;\n",
       "    }\n",
       "\n",
       "    .dataframe thead th {\n",
       "        text-align: right;\n",
       "    }\n",
       "</style>\n",
       "<table border=\"1\" class=\"dataframe\">\n",
       "  <thead>\n",
       "    <tr style=\"text-align: right;\">\n",
       "      <th></th>\n",
       "      <th>1</th>\n",
       "      <th>2</th>\n",
       "      <th>5</th>\n",
       "      <th>7</th>\n",
       "      <th>10</th>\n",
       "      <th>20</th>\n",
       "      <th>30</th>\n",
       "    </tr>\n",
       "    <tr>\n",
       "      <th>caldt</th>\n",
       "      <th></th>\n",
       "      <th></th>\n",
       "      <th></th>\n",
       "      <th></th>\n",
       "      <th></th>\n",
       "      <th></th>\n",
       "      <th></th>\n",
       "    </tr>\n",
       "  </thead>\n",
       "  <tbody>\n",
       "    <tr>\n",
       "      <th>1961-06-14</th>\n",
       "      <td>2.935907</td>\n",
       "      <td>3.360687</td>\n",
       "      <td>3.623677</td>\n",
       "      <td>3.768720</td>\n",
       "      <td>3.818819</td>\n",
       "      <td>3.814210</td>\n",
       "      <td>3.815172</td>\n",
       "    </tr>\n",
       "    <tr>\n",
       "      <th>1961-06-15</th>\n",
       "      <td>2.932936</td>\n",
       "      <td>3.376460</td>\n",
       "      <td>3.671691</td>\n",
       "      <td>3.804225</td>\n",
       "      <td>3.862987</td>\n",
       "      <td>3.828220</td>\n",
       "      <td>3.826316</td>\n",
       "    </tr>\n",
       "    <tr>\n",
       "      <th>1961-06-16</th>\n",
       "      <td>2.929949</td>\n",
       "      <td>3.375670</td>\n",
       "      <td>3.685431</td>\n",
       "      <td>3.804216</td>\n",
       "      <td>3.863282</td>\n",
       "      <td>3.832922</td>\n",
       "      <td>3.830049</td>\n",
       "    </tr>\n",
       "    <tr>\n",
       "      <th>1961-06-19</th>\n",
       "      <td>2.920884</td>\n",
       "      <td>3.389970</td>\n",
       "      <td>3.712984</td>\n",
       "      <td>3.824557</td>\n",
       "      <td>3.886205</td>\n",
       "      <td>3.842378</td>\n",
       "      <td>3.837543</td>\n",
       "    </tr>\n",
       "    <tr>\n",
       "      <th>1961-06-20</th>\n",
       "      <td>2.952419</td>\n",
       "      <td>3.355796</td>\n",
       "      <td>3.685391</td>\n",
       "      <td>3.809274</td>\n",
       "      <td>3.886506</td>\n",
       "      <td>3.856465</td>\n",
       "      <td>3.845018</td>\n",
       "    </tr>\n",
       "  </tbody>\n",
       "</table>\n",
       "</div>"
      ],
      "text/plain": [
       "                   1         2         5         7        10        20  \\\n",
       "caldt                                                                    \n",
       "1961-06-14  2.935907  3.360687  3.623677  3.768720  3.818819  3.814210   \n",
       "1961-06-15  2.932936  3.376460  3.671691  3.804225  3.862987  3.828220   \n",
       "1961-06-16  2.929949  3.375670  3.685431  3.804216  3.863282  3.832922   \n",
       "1961-06-19  2.920884  3.389970  3.712984  3.824557  3.886205  3.842378   \n",
       "1961-06-20  2.952419  3.355796  3.685391  3.809274  3.886506  3.856465   \n",
       "\n",
       "                  30  \n",
       "caldt                 \n",
       "1961-06-14  3.815172  \n",
       "1961-06-15  3.826316  \n",
       "1961-06-16  3.830049  \n",
       "1961-06-19  3.837543  \n",
       "1961-06-20  3.845018  "
      ]
     },
     "execution_count": 40,
     "metadata": {},
     "output_type": "execute_result"
    }
   ],
   "source": [
    "yields.head()"
   ]
  },
  {
   "cell_type": "markdown",
   "id": "de979e9a",
   "metadata": {},
   "source": [
    "#### Load Prices and Durations of Two Treasuries"
   ]
  },
  {
   "cell_type": "code",
   "execution_count": 41,
   "id": "afc8f432",
   "metadata": {},
   "outputs": [
    {
     "data": {
      "text/html": [
       "<div>\n",
       "<style scoped>\n",
       "    .dataframe tbody tr th:only-of-type {\n",
       "        vertical-align: middle;\n",
       "    }\n",
       "\n",
       "    .dataframe tbody tr th {\n",
       "        vertical-align: top;\n",
       "    }\n",
       "\n",
       "    .dataframe thead th {\n",
       "        text-align: right;\n",
       "    }\n",
       "</style>\n",
       "<table border=\"1\" class=\"dataframe\">\n",
       "  <thead>\n",
       "    <tr style=\"text-align: right;\">\n",
       "      <th></th>\n",
       "      <th>1</th>\n",
       "      <th>2</th>\n",
       "      <th>5</th>\n",
       "      <th>7</th>\n",
       "      <th>10</th>\n",
       "      <th>20</th>\n",
       "      <th>30</th>\n",
       "    </tr>\n",
       "    <tr>\n",
       "      <th>caldt</th>\n",
       "      <th></th>\n",
       "      <th></th>\n",
       "      <th></th>\n",
       "      <th></th>\n",
       "      <th></th>\n",
       "      <th></th>\n",
       "      <th></th>\n",
       "    </tr>\n",
       "  </thead>\n",
       "  <tbody>\n",
       "    <tr>\n",
       "      <th>1961-06-14</th>\n",
       "      <td>2.935907</td>\n",
       "      <td>3.360687</td>\n",
       "      <td>3.623677</td>\n",
       "      <td>3.768720</td>\n",
       "      <td>3.818819</td>\n",
       "      <td>3.814210</td>\n",
       "      <td>3.815172</td>\n",
       "    </tr>\n",
       "    <tr>\n",
       "      <th>1961-06-15</th>\n",
       "      <td>2.932936</td>\n",
       "      <td>3.376460</td>\n",
       "      <td>3.671691</td>\n",
       "      <td>3.804225</td>\n",
       "      <td>3.862987</td>\n",
       "      <td>3.828220</td>\n",
       "      <td>3.826316</td>\n",
       "    </tr>\n",
       "    <tr>\n",
       "      <th>1961-06-16</th>\n",
       "      <td>2.929949</td>\n",
       "      <td>3.375670</td>\n",
       "      <td>3.685431</td>\n",
       "      <td>3.804216</td>\n",
       "      <td>3.863282</td>\n",
       "      <td>3.832922</td>\n",
       "      <td>3.830049</td>\n",
       "    </tr>\n",
       "    <tr>\n",
       "      <th>1961-06-19</th>\n",
       "      <td>2.920884</td>\n",
       "      <td>3.389970</td>\n",
       "      <td>3.712984</td>\n",
       "      <td>3.824557</td>\n",
       "      <td>3.886205</td>\n",
       "      <td>3.842378</td>\n",
       "      <td>3.837543</td>\n",
       "    </tr>\n",
       "    <tr>\n",
       "      <th>1961-06-20</th>\n",
       "      <td>2.952419</td>\n",
       "      <td>3.355796</td>\n",
       "      <td>3.685391</td>\n",
       "      <td>3.809274</td>\n",
       "      <td>3.886506</td>\n",
       "      <td>3.856465</td>\n",
       "      <td>3.845018</td>\n",
       "    </tr>\n",
       "  </tbody>\n",
       "</table>\n",
       "</div>"
      ],
      "text/plain": [
       "                   1         2         5         7        10        20  \\\n",
       "caldt                                                                    \n",
       "1961-06-14  2.935907  3.360687  3.623677  3.768720  3.818819  3.814210   \n",
       "1961-06-15  2.932936  3.376460  3.671691  3.804225  3.862987  3.828220   \n",
       "1961-06-16  2.929949  3.375670  3.685431  3.804216  3.863282  3.832922   \n",
       "1961-06-19  2.920884  3.389970  3.712984  3.824557  3.886205  3.842378   \n",
       "1961-06-20  2.952419  3.355796  3.685391  3.809274  3.886506  3.856465   \n",
       "\n",
       "                  30  \n",
       "caldt                 \n",
       "1961-06-14  3.815172  \n",
       "1961-06-15  3.826316  \n",
       "1961-06-16  3.830049  \n",
       "1961-06-19  3.837543  \n",
       "1961-06-20  3.845018  "
      ]
     },
     "execution_count": 41,
     "metadata": {},
     "output_type": "execute_result"
    }
   ],
   "source": [
    "filepath = '../data/yields.xlsx'\n",
    "yields = pd.read_excel(filepath, sheet_name='yields')\n",
    "yields.set_index('caldt',inplace=True)\n",
    "yields.head()"
   ]
  },
  {
   "cell_type": "code",
   "execution_count": 42,
   "id": "18b846dd",
   "metadata": {},
   "outputs": [
    {
     "data": {
      "text/html": [
       "<div>\n",
       "<style scoped>\n",
       "    .dataframe tbody tr th:only-of-type {\n",
       "        vertical-align: middle;\n",
       "    }\n",
       "\n",
       "    .dataframe tbody tr th {\n",
       "        vertical-align: top;\n",
       "    }\n",
       "\n",
       "    .dataframe thead th {\n",
       "        text-align: right;\n",
       "    }\n",
       "</style>\n",
       "<table border=\"1\" class=\"dataframe\">\n",
       "  <thead>\n",
       "    <tr style=\"text-align: right;\">\n",
       "      <th></th>\n",
       "      <th>type</th>\n",
       "      <th>issue date</th>\n",
       "      <th>maturity date</th>\n",
       "      <th>cpn rate</th>\n",
       "    </tr>\n",
       "    <tr>\n",
       "      <th>KYTREASNO</th>\n",
       "      <th></th>\n",
       "      <th></th>\n",
       "      <th></th>\n",
       "      <th></th>\n",
       "    </tr>\n",
       "  </thead>\n",
       "  <tbody>\n",
       "    <tr>\n",
       "      <th>207391</th>\n",
       "      <td>note</td>\n",
       "      <td>2019-08-15</td>\n",
       "      <td>2029-08-15</td>\n",
       "      <td>1.625</td>\n",
       "    </tr>\n",
       "    <tr>\n",
       "      <th>207392</th>\n",
       "      <td>bond</td>\n",
       "      <td>2019-08-15</td>\n",
       "      <td>2049-08-15</td>\n",
       "      <td>2.250</td>\n",
       "    </tr>\n",
       "  </tbody>\n",
       "</table>\n",
       "</div>"
      ],
      "text/plain": [
       "           type issue date maturity date  cpn rate\n",
       "KYTREASNO                                         \n",
       "207391     note 2019-08-15    2029-08-15     1.625\n",
       "207392     bond 2019-08-15    2049-08-15     2.250"
      ]
     },
     "execution_count": 42,
     "metadata": {},
     "output_type": "execute_result"
    }
   ],
   "source": [
    "QUOTE_DATE = '2024-10-31'\n",
    "filepath = f'../data/treasury_ts_duration_{QUOTE_DATE}.xlsx'\n",
    "\n",
    "data = pd.read_excel(filepath,sheet_name='database')\n",
    "data_info =  data.drop_duplicates(subset='KYTREASNO', keep='first').set_index('KYTREASNO')\n",
    "data_info[['type','issue date','maturity date','cpn rate']]"
   ]
  },
  {
   "cell_type": "markdown",
   "id": "28e8f46c",
   "metadata": {},
   "source": [
    "You will largely focus on the sheets which give the timeseries of prices and durations for each of the two securities, as shown in the following code."
   ]
  },
  {
   "cell_type": "code",
   "execution_count": 43,
   "id": "8724ba0a",
   "metadata": {},
   "outputs": [],
   "source": [
    "SHEET_PRICE = 'price'\n",
    "SHEET_DURATION = 'duration'\n",
    "INDEX_NAME = 'quote date'\n",
    "\n",
    "price = pd.read_excel(filepath,sheet_name=SHEET_PRICE).set_index(INDEX_NAME).rename(columns={207391: \"price_207391\", 207392: \"price_207392\"})\n",
    "duration = pd.read_excel(filepath,sheet_name=SHEET_DURATION).set_index(INDEX_NAME).rename(columns={207391: \"duration_207391\", 207392: \"duration_207392\"})"
   ]
  },
  {
   "cell_type": "code",
   "execution_count": 44,
   "id": "9a97c3f1",
   "metadata": {},
   "outputs": [
    {
     "data": {
      "text/html": [
       "<div>\n",
       "<style scoped>\n",
       "    .dataframe tbody tr th:only-of-type {\n",
       "        vertical-align: middle;\n",
       "    }\n",
       "\n",
       "    .dataframe tbody tr th {\n",
       "        vertical-align: top;\n",
       "    }\n",
       "\n",
       "    .dataframe thead th {\n",
       "        text-align: right;\n",
       "    }\n",
       "</style>\n",
       "<table border=\"1\" class=\"dataframe\">\n",
       "  <thead>\n",
       "    <tr style=\"text-align: right;\">\n",
       "      <th></th>\n",
       "      <th>price_207391</th>\n",
       "      <th>price_207392</th>\n",
       "    </tr>\n",
       "    <tr>\n",
       "      <th>quote date</th>\n",
       "      <th></th>\n",
       "      <th></th>\n",
       "    </tr>\n",
       "  </thead>\n",
       "  <tbody>\n",
       "    <tr>\n",
       "      <th>2019-08-09</th>\n",
       "      <td>98.882812</td>\n",
       "      <td>99.789062</td>\n",
       "    </tr>\n",
       "    <tr>\n",
       "      <th>2019-08-12</th>\n",
       "      <td>99.796875</td>\n",
       "      <td>102.554688</td>\n",
       "    </tr>\n",
       "    <tr>\n",
       "      <th>2019-08-13</th>\n",
       "      <td>99.281250</td>\n",
       "      <td>101.867188</td>\n",
       "    </tr>\n",
       "    <tr>\n",
       "      <th>2019-08-14</th>\n",
       "      <td>100.406250</td>\n",
       "      <td>105.179688</td>\n",
       "    </tr>\n",
       "    <tr>\n",
       "      <th>2019-08-15</th>\n",
       "      <td>100.882812</td>\n",
       "      <td>106.234375</td>\n",
       "    </tr>\n",
       "  </tbody>\n",
       "</table>\n",
       "</div>"
      ],
      "text/plain": [
       "            price_207391  price_207392\n",
       "quote date                            \n",
       "2019-08-09     98.882812     99.789062\n",
       "2019-08-12     99.796875    102.554688\n",
       "2019-08-13     99.281250    101.867188\n",
       "2019-08-14    100.406250    105.179688\n",
       "2019-08-15    100.882812    106.234375"
      ]
     },
     "metadata": {},
     "output_type": "display_data"
    },
    {
     "data": {
      "text/html": [
       "<div>\n",
       "<style scoped>\n",
       "    .dataframe tbody tr th:only-of-type {\n",
       "        vertical-align: middle;\n",
       "    }\n",
       "\n",
       "    .dataframe tbody tr th {\n",
       "        vertical-align: top;\n",
       "    }\n",
       "\n",
       "    .dataframe thead th {\n",
       "        text-align: right;\n",
       "    }\n",
       "</style>\n",
       "<table border=\"1\" class=\"dataframe\">\n",
       "  <thead>\n",
       "    <tr style=\"text-align: right;\">\n",
       "      <th></th>\n",
       "      <th>duration_207391</th>\n",
       "      <th>duration_207392</th>\n",
       "    </tr>\n",
       "    <tr>\n",
       "      <th>quote date</th>\n",
       "      <th></th>\n",
       "      <th></th>\n",
       "    </tr>\n",
       "  </thead>\n",
       "  <tbody>\n",
       "    <tr>\n",
       "      <th>2019-08-09</th>\n",
       "      <td>9.289497</td>\n",
       "      <td>22.000102</td>\n",
       "    </tr>\n",
       "    <tr>\n",
       "      <th>2019-08-12</th>\n",
       "      <td>9.285468</td>\n",
       "      <td>22.118496</td>\n",
       "    </tr>\n",
       "    <tr>\n",
       "      <th>2019-08-13</th>\n",
       "      <td>9.280314</td>\n",
       "      <td>22.084308</td>\n",
       "    </tr>\n",
       "    <tr>\n",
       "      <th>2019-08-14</th>\n",
       "      <td>9.282750</td>\n",
       "      <td>22.228549</td>\n",
       "    </tr>\n",
       "    <tr>\n",
       "      <th>2019-08-15</th>\n",
       "      <td>9.282163</td>\n",
       "      <td>22.270910</td>\n",
       "    </tr>\n",
       "  </tbody>\n",
       "</table>\n",
       "</div>"
      ],
      "text/plain": [
       "            duration_207391  duration_207392\n",
       "quote date                                  \n",
       "2019-08-09         9.289497        22.000102\n",
       "2019-08-12         9.285468        22.118496\n",
       "2019-08-13         9.280314        22.084308\n",
       "2019-08-14         9.282750        22.228549\n",
       "2019-08-15         9.282163        22.270910"
      ]
     },
     "metadata": {},
     "output_type": "display_data"
    }
   ],
   "source": [
    "display(price.head())\n",
    "display(duration.head())"
   ]
  },
  {
   "cell_type": "markdown",
   "id": "08fd667b",
   "metadata": {},
   "source": [
    "### 2.1.\n",
    "\n",
    "Construct the following yield-curve factors from the `yields` data set:\n",
    "\n",
    "$\\begin{align}\n",
    "x^{\\text{level}}_t =& \\frac{1}{N_{\\text{yields}}}\\sum_{i=1}^{N_{\\text{yields}}} y^{(i)}_t\\\\\n",
    "x^{\\text{slope}}_t =& y^{(30)}_t - y^{(1)}_t\\\\\n",
    "x^{\\text{curvature}}_t =& -y^{(1)}_t + 2 y^{(10)}_t - y^{(30)}_t\n",
    "\\end{align}$"
   ]
  },
  {
   "cell_type": "code",
   "execution_count": 45,
   "id": "d9d1aab2",
   "metadata": {},
   "outputs": [
    {
     "data": {
      "text/html": [
       "<div>\n",
       "<style scoped>\n",
       "    .dataframe tbody tr th:only-of-type {\n",
       "        vertical-align: middle;\n",
       "    }\n",
       "\n",
       "    .dataframe tbody tr th {\n",
       "        vertical-align: top;\n",
       "    }\n",
       "\n",
       "    .dataframe thead th {\n",
       "        text-align: right;\n",
       "    }\n",
       "</style>\n",
       "<table border=\"1\" class=\"dataframe\">\n",
       "  <thead>\n",
       "    <tr style=\"text-align: right;\">\n",
       "      <th></th>\n",
       "      <th>level</th>\n",
       "      <th>slope</th>\n",
       "      <th>curvature</th>\n",
       "    </tr>\n",
       "    <tr>\n",
       "      <th>caldt</th>\n",
       "      <th></th>\n",
       "      <th></th>\n",
       "      <th></th>\n",
       "    </tr>\n",
       "  </thead>\n",
       "  <tbody>\n",
       "    <tr>\n",
       "      <th>1961-06-14</th>\n",
       "      <td>3.591027</td>\n",
       "      <td>0.879264</td>\n",
       "      <td>0.886559</td>\n",
       "    </tr>\n",
       "    <tr>\n",
       "      <th>1961-06-15</th>\n",
       "      <td>3.614691</td>\n",
       "      <td>0.893380</td>\n",
       "      <td>0.966721</td>\n",
       "    </tr>\n",
       "    <tr>\n",
       "      <th>1961-06-16</th>\n",
       "      <td>3.617360</td>\n",
       "      <td>0.900101</td>\n",
       "      <td>0.966566</td>\n",
       "    </tr>\n",
       "    <tr>\n",
       "      <th>1961-06-19</th>\n",
       "      <td>3.630646</td>\n",
       "      <td>0.916659</td>\n",
       "      <td>1.013983</td>\n",
       "    </tr>\n",
       "    <tr>\n",
       "      <th>1961-06-20</th>\n",
       "      <td>3.627267</td>\n",
       "      <td>0.892599</td>\n",
       "      <td>0.975574</td>\n",
       "    </tr>\n",
       "  </tbody>\n",
       "</table>\n",
       "</div>"
      ],
      "text/plain": [
       "               level     slope  curvature\n",
       "caldt                                    \n",
       "1961-06-14  3.591027  0.879264   0.886559\n",
       "1961-06-15  3.614691  0.893380   0.966721\n",
       "1961-06-16  3.617360  0.900101   0.966566\n",
       "1961-06-19  3.630646  0.916659   1.013983\n",
       "1961-06-20  3.627267  0.892599   0.975574"
      ]
     },
     "execution_count": 45,
     "metadata": {},
     "output_type": "execute_result"
    }
   ],
   "source": [
    "maturities = list(map(int, yields.columns))\n",
    "factors = pd.DataFrame(index=yields.index)\n",
    "factors['level'] = yields[maturities].mean(axis=1)\n",
    "factors['slope'] = yields[30] - yields[1]\n",
    "factors['curvature'] = -yields[1] + 2*yields[10] - yields[30]\n",
    "factors.head()"
   ]
  },
  {
   "cell_type": "markdown",
   "id": "42d3a537",
   "metadata": {},
   "source": [
    "### 2.2\n",
    "\n",
    "Get the bond prices and durations for the two bonds in the data set referenced above.\n",
    "\n",
    "#### Align the data\n",
    "\n",
    "Align the bond pricing data with the yield factor data, so that you have data for both in the intersection of their dates.\n",
    "\n",
    "\n",
    "#### Estimate the regression\n",
    "\n",
    "Estimate the regression in the form of day-over-day differences for both bond prices and factors. That is, we are using regression to approximate the factor duration equation,\n",
    "\n",
    "$\\begin{align}\n",
    "\\frac{dP}{P} = \\alpha + \\beta_L dx_{\\text{level}} + \\beta_S dx_{\\text{slope}} + \\beta_C dx_{\\text{curvature}} + \\epsilon\n",
    "\\end{align}$\n",
    "\n",
    "Report the betas for each of these factors, for each of the bond prices."
   ]
  },
  {
   "cell_type": "code",
   "execution_count": 46,
   "id": "ebbaf3b8",
   "metadata": {},
   "outputs": [
    {
     "data": {
      "text/html": [
       "<div>\n",
       "<style scoped>\n",
       "    .dataframe tbody tr th:only-of-type {\n",
       "        vertical-align: middle;\n",
       "    }\n",
       "\n",
       "    .dataframe tbody tr th {\n",
       "        vertical-align: top;\n",
       "    }\n",
       "\n",
       "    .dataframe thead th {\n",
       "        text-align: right;\n",
       "    }\n",
       "</style>\n",
       "<table border=\"1\" class=\"dataframe\">\n",
       "  <thead>\n",
       "    <tr style=\"text-align: right;\">\n",
       "      <th></th>\n",
       "      <th>price_207391</th>\n",
       "      <th>price_207392</th>\n",
       "      <th>level</th>\n",
       "      <th>slope</th>\n",
       "      <th>curvature</th>\n",
       "    </tr>\n",
       "  </thead>\n",
       "  <tbody>\n",
       "    <tr>\n",
       "      <th>2019-08-09</th>\n",
       "      <td>98.882812</td>\n",
       "      <td>99.789062</td>\n",
       "      <td>1.806375</td>\n",
       "      <td>0.416249</td>\n",
       "      <td>-0.621449</td>\n",
       "    </tr>\n",
       "    <tr>\n",
       "      <th>2019-08-12</th>\n",
       "      <td>99.796875</td>\n",
       "      <td>102.554688</td>\n",
       "      <td>1.715649</td>\n",
       "      <td>0.348970</td>\n",
       "      <td>-0.638499</td>\n",
       "    </tr>\n",
       "    <tr>\n",
       "      <th>2019-08-13</th>\n",
       "      <td>99.281250</td>\n",
       "      <td>101.867188</td>\n",
       "      <td>1.783262</td>\n",
       "      <td>0.281567</td>\n",
       "      <td>-0.669613</td>\n",
       "    </tr>\n",
       "    <tr>\n",
       "      <th>2019-08-14</th>\n",
       "      <td>100.406250</td>\n",
       "      <td>105.179688</td>\n",
       "      <td>1.678094</td>\n",
       "      <td>0.198027</td>\n",
       "      <td>-0.696493</td>\n",
       "    </tr>\n",
       "    <tr>\n",
       "      <th>2019-08-15</th>\n",
       "      <td>100.882812</td>\n",
       "      <td>106.234375</td>\n",
       "      <td>1.624473</td>\n",
       "      <td>0.217206</td>\n",
       "      <td>-0.690059</td>\n",
       "    </tr>\n",
       "    <tr>\n",
       "      <th>...</th>\n",
       "      <td>...</td>\n",
       "      <td>...</td>\n",
       "      <td>...</td>\n",
       "      <td>...</td>\n",
       "      <td>...</td>\n",
       "    </tr>\n",
       "    <tr>\n",
       "      <th>2024-05-24</th>\n",
       "      <td>86.804688</td>\n",
       "      <td>64.429688</td>\n",
       "      <td>4.642343</td>\n",
       "      <td>-0.637884</td>\n",
       "      <td>-0.838863</td>\n",
       "    </tr>\n",
       "    <tr>\n",
       "      <th>2024-05-28</th>\n",
       "      <td>86.484375</td>\n",
       "      <td>63.296875</td>\n",
       "      <td>4.711880</td>\n",
       "      <td>-0.536670</td>\n",
       "      <td>-0.764817</td>\n",
       "    </tr>\n",
       "    <tr>\n",
       "      <th>2024-05-29</th>\n",
       "      <td>86.261719</td>\n",
       "      <td>62.613281</td>\n",
       "      <td>4.768430</td>\n",
       "      <td>-0.551893</td>\n",
       "      <td>-0.787602</td>\n",
       "    </tr>\n",
       "    <tr>\n",
       "      <th>2024-05-30</th>\n",
       "      <td>86.550781</td>\n",
       "      <td>63.207031</td>\n",
       "      <td>4.708726</td>\n",
       "      <td>-0.548852</td>\n",
       "      <td>-0.807237</td>\n",
       "    </tr>\n",
       "    <tr>\n",
       "      <th>2024-05-31</th>\n",
       "      <td>86.781250</td>\n",
       "      <td>63.609375</td>\n",
       "      <td>4.659759</td>\n",
       "      <td>-0.533040</td>\n",
       "      <td>-0.829506</td>\n",
       "    </tr>\n",
       "  </tbody>\n",
       "</table>\n",
       "<p>1206 rows × 5 columns</p>\n",
       "</div>"
      ],
      "text/plain": [
       "            price_207391  price_207392     level     slope  curvature\n",
       "2019-08-09     98.882812     99.789062  1.806375  0.416249  -0.621449\n",
       "2019-08-12     99.796875    102.554688  1.715649  0.348970  -0.638499\n",
       "2019-08-13     99.281250    101.867188  1.783262  0.281567  -0.669613\n",
       "2019-08-14    100.406250    105.179688  1.678094  0.198027  -0.696493\n",
       "2019-08-15    100.882812    106.234375  1.624473  0.217206  -0.690059\n",
       "...                  ...           ...       ...       ...        ...\n",
       "2024-05-24     86.804688     64.429688  4.642343 -0.637884  -0.838863\n",
       "2024-05-28     86.484375     63.296875  4.711880 -0.536670  -0.764817\n",
       "2024-05-29     86.261719     62.613281  4.768430 -0.551893  -0.787602\n",
       "2024-05-30     86.550781     63.207031  4.708726 -0.548852  -0.807237\n",
       "2024-05-31     86.781250     63.609375  4.659759 -0.533040  -0.829506\n",
       "\n",
       "[1206 rows x 5 columns]"
      ]
     },
     "execution_count": 46,
     "metadata": {},
     "output_type": "execute_result"
    }
   ],
   "source": [
    "merged_df = pd.merge(price, factors, how=\"inner\", left_index=True, right_index=True)\n",
    "merged_df"
   ]
  },
  {
   "cell_type": "code",
   "execution_count": 47,
   "id": "d98f09cd",
   "metadata": {},
   "outputs": [],
   "source": [
    "merged_df[\"dP/P_207391\"] = merged_df[\"price_207391\"].pct_change()\n",
    "merged_df[\"dP/P_207392\"] = merged_df[\"price_207392\"].pct_change()\n",
    "merged_df[\"d_level\"] = merged_df[\"level\"].diff()\n",
    "merged_df[\"d_slope\"] = merged_df[\"slope\"].diff()\n",
    "merged_df[\"d_curvature\"] = merged_df[\"curvature\"].diff()\n",
    "merged_df.dropna(inplace=True)"
   ]
  },
  {
   "cell_type": "code",
   "execution_count": 48,
   "id": "d1ef7b6d",
   "metadata": {},
   "outputs": [
    {
     "data": {
      "text/plain": [
       "const          0.000066\n",
       "d_level       -0.071967\n",
       "d_slope       -0.005585\n",
       "d_curvature   -0.010514\n",
       "dtype: float64"
      ]
     },
     "execution_count": 48,
     "metadata": {},
     "output_type": "execute_result"
    }
   ],
   "source": [
    "Y_207391 = merged_df[\"dP/P_207391\"]\n",
    "X = merged_df[[\"d_level\", \"d_slope\", \"d_curvature\"]]\n",
    "X = sm.add_constant(X)\n",
    "model = sm.OLS(Y_207391,X)\n",
    "results = model.fit()\n",
    "results.params"
   ]
  },
  {
   "cell_type": "code",
   "execution_count": 49,
   "id": "11369795",
   "metadata": {},
   "outputs": [
    {
     "data": {
      "text/plain": [
       "const          0.000092\n",
       "d_level       -0.203368\n",
       "d_slope       -0.130103\n",
       "d_curvature    0.080332\n",
       "dtype: float64"
      ]
     },
     "execution_count": 49,
     "metadata": {},
     "output_type": "execute_result"
    }
   ],
   "source": [
    "Y_207392 = merged_df[\"dP/P_207392\"]\n",
    "X = merged_df[[\"d_level\", \"d_slope\", \"d_curvature\"]]\n",
    "X = sm.add_constant(X)\n",
    "model = sm.OLS(Y_207392,X)\n",
    "results = model.fit()\n",
    "results.params"
   ]
  },
  {
   "cell_type": "markdown",
   "id": "4776f6e5",
   "metadata": {},
   "source": [
    "### 2.3.\n",
    "\n",
    "Compare the \"level\" factor beta for each of the two treasuries with the average  duration for each bond as reported in the data set.\n",
    "\n",
    "* How closely does the average duration for a bond compare to its \"level\" beta?\n",
    "* What do you conclude about the usefulness of mathematical duration vs regression sensitivities?"
   ]
  },
  {
   "cell_type": "code",
   "execution_count": 50,
   "id": "6d8a177f",
   "metadata": {},
   "outputs": [
    {
     "data": {
      "text/plain": [
       "duration_207391     6.923664\n",
       "duration_207392    19.903216\n",
       "dtype: float64"
      ]
     },
     "execution_count": 50,
     "metadata": {},
     "output_type": "execute_result"
    }
   ],
   "source": [
    "avg_duration = duration.mean()\n",
    "avg_duration"
   ]
  },
  {
   "cell_type": "markdown",
   "id": "985d589d",
   "metadata": {},
   "source": [
    "From the regression, we get that the level Beta and Mathematical Duration are very close to each other\n",
    "\n",
    "- 7.2 (Level Beta) vs 6.92 (Mathematical Duration) for 207391\n",
    "- 20.3 (Level Beta) vs 19.9 (Mathematical Duration) for 207392\n",
    "\n",
    "\n",
    "These values are close enough, but we need to be very precise in the case of fixed-income instruments. While regression level beta is a close approximation and can be used to roughly identify the order magnitude of sensitivity of bond prices to interest rates, for practical applications like hedging, it is better to use the mathematical form"
   ]
  },
  {
   "cell_type": "markdown",
   "id": "2df02787",
   "metadata": {},
   "source": [
    "### 2.4.\n",
    "\n",
    "In the duration-hedged trade of `Homework 2, Section 2`, was the that trade was long or short this slope factor? \n",
    "\n",
    "Do you think the slope factor exposure had a large impact on the trade?\n",
    "\n",
    "No new analysis needed, just draw a conclusion from the estimates above along with the trade construction in `HW 2, Sec 2`."
   ]
  },
  {
   "cell_type": "markdown",
   "id": "c1ca02e6",
   "metadata": {},
   "source": [
    "- Slope = (Yield on Long Maturity - Yield on Short Maturity). In the trade, we were going long on the short maturity and short on the long maturity. So, we are going short on the slope\n",
    "- In the trade, the slope factor exposure is ~ 12.5 per (% change in yields). So the slope factor exposure is moderate."
   ]
  },
  {
   "cell_type": "markdown",
   "id": "fcabcd0c",
   "metadata": {},
   "source": [
    "***"
   ]
  },
  {
   "cell_type": "markdown",
   "id": "9168eed2",
   "metadata": {},
   "source": [
    "# 3 Calculating Duration Via Individual Cashflows\n",
    "\n",
    "## *Optional, not submitted*"
   ]
  },
  {
   "cell_type": "markdown",
   "id": "432e95d6",
   "metadata": {},
   "source": [
    "Use the data file `../data/treasury_quotes_2024-10-31.xlsx`.\n",
    "\n",
    "### 3.1 \n",
    "Set up the cashflow matrix. \n",
    "\n",
    "### 3.2\n",
    "Extract the Nelson-Siegel spot discount curve, as you did in `Homework 1`.\n",
    "\n",
    "### 3.3\n",
    "For each treasury issue, calculate the duration as the weighted average of the (discounted!) cashflow maturity.\n",
    "\n",
    "Report the summary statistics of the durations. (Use `.describe()` from pandas.)\n",
    "\n",
    "### 3.4\n",
    "How close are your duration estimates to the imputed durations given in the data source?\n",
    "\n",
    "Report the summary statistics of the imputed durations minus your calculated durations from above.\n",
    "\n",
    "### 3.5\n",
    "Continue using your assumed discount rates of `4.5`\\% to calculate the convexity of each issue.\n",
    "\n",
    "Report the summary statistics of these convexity calculations."
   ]
  },
  {
   "cell_type": "markdown",
   "id": "d28e865d",
   "metadata": {},
   "source": [
    "***"
   ]
  }
 ],
 "metadata": {
  "hide_input": false,
  "kernelspec": {
   "display_name": "Python 3 (ipykernel)",
   "language": "python",
   "name": "python3"
  },
  "language_info": {
   "codemirror_mode": {
    "name": "ipython",
    "version": 3
   },
   "file_extension": ".py",
   "mimetype": "text/x-python",
   "name": "python",
   "nbconvert_exporter": "python",
   "pygments_lexer": "ipython3",
   "version": "3.12.4"
  }
 },
 "nbformat": 4,
 "nbformat_minor": 5
}
